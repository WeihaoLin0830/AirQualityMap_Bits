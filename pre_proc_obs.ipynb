{
 "cells": [
  {
   "cell_type": "code",
   "execution_count": null,
   "metadata": {},
   "outputs": [],
   "source": [
    "import pandas as pd\n",
    "import numpy as np\n",
    "import matplotlib.pyplot as plt\n",
    "import seaborn as sns\n",
    "from sklearn.model_selection import train_test_split\n",
    "from sklearn.linear_model import LinearRegression\n",
    "from sklearn.metrics import mean_squared_error\n",
    "from sklearn.metrics import r2_score\n",
    "from sklearn.preprocessing import PolynomialFeatures\n",
    "from sklearn.linear_model import Ridge\n",
    "from sklearn.linear_model import Lasso\n",
    "from sklearn.linear_model import ElasticNet\n",
    "from sklearn.ensemble import RandomForestRegressor\n",
    "from sklearn.svm import SVR\n",
    "\n",
    "\n",
    "import geopandas as gpd\n",
    "import numpy as np\n",
    "import pandas as pd\n",
    "from pykrige.ok import OrdinaryKriging\n",
    "from pykrige.uk import UniversalKriging\n",
    "from shapely.geometry import Point, Polygon\n",
    "from sklearn.model_selection import train_test_split\n",
    "import matplotlib.pyplot as plt\n",
    "import descartes\n",
    "import math\n",
    "import matplotlib.colors as mcolors\n",
    "import pyproj\n",
    "import folium"
   ]
  },
  {
   "cell_type": "code",
   "execution_count": null,
   "metadata": {},
   "outputs": [],
   "source": [
    "import pandas as pd\n",
    "\n",
    "# Load the dataset for contaminants\n",
    "d_pm2p5 = pd.read_csv('Dades/AMS_Observacions/gene_pm2p5_2023.csv') \n",
    "d_pm2p10 = pd.read_csv('Dades/AMS_Observacions/gene_pm10_2023.csv') \n",
    "d_sconcno2 = pd.read_csv('Dades/AMS_Observacions/gene_sconcno2_2023_xvpca_emep_port.csv') \n",
    "d_sconco3 = pd.read_csv('Dades/AMS_Observacions/gene_sconco3_2023_xvpca_emep.csv') \n",
    "\n",
    "# Load information stations\n",
    "d_estacions_pm2p5 = pd.read_csv('Dades/AMS_Observacions/XVPCA_info_pm2p5_2023.csv')\n",
    "d_estacions_pm10 = pd.read_csv('Dades/AMS_Observacions/XVPCA_info_pm10_2023.csv')\n",
    "d_estacions_no2 = pd.read_csv('Dades/AMS_Observacions/XVPCA_info_sconcno2_2023.csv')\n",
    "d_estacions_o3 = pd.read_csv('Dades/AMS_Observacions/XVPCA_info_sconco3_2023.csv')\n",
    "\n",
    "# Combina les taules utilitzant 'UniqueID' com a clau de combinació\n",
    "# combined_data = pd.merge(categorical_data, acoustic_features, on='UniqueID', how='inner')"
   ]
  }
 ],
 "metadata": {
  "kernelspec": {
   "display_name": "bitsM",
   "language": "python",
   "name": "python3"
  },
  "language_info": {
   "name": "python",
   "version": "3.12.3"
  }
 },
 "nbformat": 4,
 "nbformat_minor": 2
}
