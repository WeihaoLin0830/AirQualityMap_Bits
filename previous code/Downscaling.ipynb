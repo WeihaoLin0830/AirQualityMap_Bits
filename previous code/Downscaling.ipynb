{
 "cells": [
  {
   "cell_type": "code",
   "execution_count": 6,
   "metadata": {},
   "outputs": [],
   "source": [
    "import geopandas as gpd\n",
    "import numpy as np\n",
    "import pandas as pd\n",
    "from pykrige.ok import OrdinaryKriging\n",
    "from pykrige.uk import UniversalKriging\n",
    "from shapely.geometry import Point, Polygon\n",
    "from sklearn.model_selection import train_test_split\n",
    "import matplotlib.pyplot as plt\n",
    "import descartes\n",
    "import math\n",
    "import matplotlib.colors as mcolors\n",
    "import pyproj\n",
    "import folium"
   ]
  },
  {
   "cell_type": "markdown",
   "metadata": {},
   "source": [
    "path"
   ]
  },
  {
   "cell_type": "code",
   "execution_count": 7,
   "metadata": {},
   "outputs": [],
   "source": [
    "# Setting\n",
    "wdir = \"../Dades/AMS_Observacions/\"\n",
    "crs_latlon = 'EPSG:4326'  # WGS84\n",
    "crs_utm = \"EPSG:32631\"   # UTM zone 31"
   ]
  },
  {
   "cell_type": "code",
   "execution_count": null,
   "metadata": {},
   "outputs": [
    {
     "name": "stdout",
     "output_type": "stream",
     "text": [
      "0     fifthClass\n",
      "1    fourthClass\n",
      "2    fourthClass\n",
      "3     fifthClass\n",
      "4     fifthClass\n",
      "Name: functional, dtype: object\n"
     ]
    }
   ],
   "source": [
    "# Cargar el shapefile\n",
    "archivo_shapefile = \"../Dades/OpenTransportMap/Barcelona/roadlinks_ES511.shp\"\n",
    "gdf_barcelona = gpd.read_file(archivo_shapefile)\n",
    "gdf_girona = gpd.read_file(\"../Dades/OpenTransportMap/Girona/roadlinks_ES512.shp\")\n",
    "gdf_lleida = gpd.read_file(\"../Dades/OpenTransportMap/Lleida/roadlinks_ES513.shp\")\n",
    "gdf_tarragona = gpd.read_file(\"../Dades/OpenTransportMap/Tarragona/roadlinks_ES514.shp\")\n",
    "\n",
    "# Concatenate the GeoDataFrames\n",
    "gdf = pd.concat([gdf_barcelona, gdf_girona, gdf_lleida, gdf_tarragona], ignore_index=True)\n",
    "# Mostrar las primeras filas de la tabla de atributos\n",
    "#print(gdf['functional'].head())\n",
    "\n",
    "# Obtener los tipos únicos de la columna 'functional'\n",
    "tipos_functional = gdf['functional'].unique()\n",
    "\n",
    "# Asignar valores de prioridad a las categorías\n",
    "valores_prioridad = {\n",
    "    'mainRoad': 6 / 6,\n",
    "    'firstClass': 5 / 6,\n",
    "    'secondClass': 4 / 6,\n",
    "    'thirdClass': 3 / 6,\n",
    "    'fourthClass': 2 / 6,\n",
    "    'fifthClass': 1 / 6,    \n",
    "}\n",
    "\n",
    "# Crear una nueva columna en el GeoDataFrame con los valores de prioridad\n",
    "gdf['prioridad'] = gdf['functional'].map(valores_prioridad)\n",
    "\n",
    "# Crear un nuevo DataFrame con las columnas 'sourceid', 'functional' y 'prioridad'\n",
    "df_transport = gdf[['sourceid', 'prioridad','geometry']].drop_duplicates().reset_index(drop=True)\n",
    "\n",
    "print(df_transport.head())\n",
    "\n",
    "# Guardar el GeoDataFrame en un archivo CSV\n",
    "#gdf.to_csv(\"./carreteres.csv\", index=False)\n"
   ]
  },
  {
   "cell_type": "code",
   "execution_count": null,
   "metadata": {},
   "outputs": [],
   "source": []
  },
  {
   "cell_type": "code",
   "execution_count": 4,
   "metadata": {},
   "outputs": [
    {
     "name": "stdout",
     "output_type": "stream",
     "text": [
      "      code        lat       lon            type              geometry  \\\n",
      "0      ZAL  41.317277  2.134501    urban-centre  POINT (2.135 41.317)   \n",
      "1  ES0010R  42.319174  3.315828        F – Fons  POINT (3.316 42.319)   \n",
      "2  ES0014R  41.393887  0.734722        F – Fons  POINT (0.735 41.394)   \n",
      "3  ES0584A  41.482016  2.188297  urban-suburban  POINT (2.188 41.482)   \n",
      "4  ES0691A  41.403716  2.204736    urban-centre  POINT (2.205 41.404)   \n",
      "\n",
      "   no2_value  \n",
      "0  22.744536  \n",
      "1   2.885103  \n",
      "2   2.537266  \n",
      "3  31.528801  \n",
      "4  24.297369  \n"
     ]
    }
   ],
   "source": [
    "# Assuming the CSV file is located in the directory specified by wdir\n",
    "csv_file_path = wdir + 'XVPCA_info_sconcno2_2023.csv'\n",
    "\n",
    "df_obs = pd.read_csv(csv_file_path)\n",
    "\n",
    "df_no2 = pd.read_csv(wdir + 'gene_sconcno2_2023_xvpca_emep_port.csv')\n",
    "df_obs['geometry'] = gpd.points_from_xy(df_obs['lon'], df_obs['lat'], crs=crs_utm)\n",
    "\n",
    "df_copy = df_obs.copy()\n",
    "# Add a new column to df_obs to store the last value from df_no2 for each id\n",
    "# Create a new DataFrame with only the rows where 'no2_value' is NaN\n",
    "df_obs['no2_value'] = df_obs['code'].apply(lambda x: df_no2[x].mean() if x in df_no2.columns else np.nan)\n",
    "df_obs = df_obs.dropna(subset=['no2_value'])\n",
    "\n",
    "# Crear un DataFrame con los códigos que están en df_copy pero no en df_obs\n",
    "df_na = df_copy[~df_copy['code'].isin(df_obs['code'])]\n",
    "\n",
    "# Mostrar los primeros registros del DataFrame resultante\n",
    "#print(df_na.head())\n",
    "\n",
    "print(df_obs.head())"
   ]
  },
  {
   "cell_type": "code",
   "execution_count": 4,
   "metadata": {},
   "outputs": [],
   "source": [
    "np.random.seed(1)\n",
    "pick_random_points = np.random.choice(len(df_obs), size=min(1000, len(df_obs)), replace=False)\n",
    "input_data_example = df_obs.iloc[pick_random_points]"
   ]
  },
  {
   "cell_type": "code",
   "execution_count": 5,
   "metadata": {},
   "outputs": [
    {
     "name": "stderr",
     "output_type": "stream",
     "text": [
      "C:\\Users\\11ser\\AppData\\Local\\Temp\\ipykernel_15460\\1893964595.py:17: DeprecationWarning: The 'unary_union' attribute is deprecated, use the 'union_all()' method instead.\n",
      "  grid = grid[grid.within(domain_polygon.unary_union)]\n"
     ]
    },
    {
     "name": "stdout",
     "output_type": "stream",
     "text": [
      "                              geometry\n",
      "855  POINT (420699.71839 4574405.3613)\n",
      "856  POINT (420699.71839 4574425.3613)\n",
      "857  POINT (420699.71839 4574445.3613)\n",
      "858  POINT (420699.71839 4574465.3613)\n",
      "859  POINT (420699.71839 4574485.3613)\n"
     ]
    }
   ],
   "source": [
    "domain_polygon = gpd.read_file('../Dades/Hands-on_Downscaling/Data_python/def_domini_bcn.geojson')\n",
    "\n",
    "# Obtener los límites del dominio\n",
    "minx, miny, maxx, maxy = domain_polygon.total_bounds\n",
    "\n",
    "# Crear una cuadrícula de 20m x 20m\n",
    "x_coords = np.arange(minx, maxx, 20)\n",
    "y_coords = np.arange(miny, maxy, 20)\n",
    "\n",
    "# Generar puntos en cada celda de la cuadrícula\n",
    "points = [Point(x, y) for x in x_coords for y in y_coords]\n",
    "\n",
    "# Crear un GeoDataFrame con los puntos\n",
    "grid = gpd.GeoDataFrame(points, columns=['geometry'], crs=domain_polygon.crs)\n",
    "\n",
    "# Filtrar los puntos que están dentro del dominio\n",
    "grid = grid[grid.within(domain_polygon.unary_union)]\n",
    "\n",
    "# Convertir las coordenadas a latitud y longitud (WGS84)\n",
    "grid = grid.to_crs(crs_latlon)\n",
    "\n",
    "# Mostrar los primeros puntos generados\n",
    "print(grid.head())"
   ]
  },
  {
   "cell_type": "code",
   "execution_count": 6,
   "metadata": {},
   "outputs": [
    {
     "name": "stdout",
     "output_type": "stream",
     "text": [
      "Adjusting data for anisotropy...\n",
      "Initializing variogram model...\n",
      "Coordinates type: 'euclidean' \n",
      "\n",
      "Using 'gaussian' Variogram Model\n",
      "Partial Sill: 43.91663997938365\n",
      "Full Sill: 67.93806181256198\n",
      "Range: 0.4084263393672743\n",
      "Nugget: 24.021421833178323 \n",
      "\n",
      "Calculating statistics on variogram model fit...\n"
     ]
    }
   ],
   "source": [
    "ok = OrdinaryKriging(\n",
    "    input_data_example.geometry.apply(lambda geom: geom.x), \n",
    "    input_data_example.geometry.apply(lambda geom: geom.y), \n",
    "    input_data_example['no2_value'].values,\n",
    "    variogram_model='gaussian',\n",
    "    verbose=True, \n",
    "    enable_plotting=False,\n",
    "    nlags=25\n",
    ")\n"
   ]
  },
  {
   "cell_type": "code",
   "execution_count": 18,
   "metadata": {},
   "outputs": [
    {
     "name": "stdout",
     "output_type": "stream",
     "text": [
      "Executing Ordinary Kriging...\n",
      "\n"
     ]
    },
    {
     "name": "stderr",
     "output_type": "stream",
     "text": [
      "C:\\Users\\11ser\\AppData\\Local\\Temp\\ipykernel_15460\\2659620909.py:7: SettingWithCopyWarning: \n",
      "A value is trying to be set on a copy of a slice from a DataFrame.\n",
      "Try using .loc[row_indexer,col_indexer] = value instead\n",
      "\n",
      "See the caveats in the documentation: https://pandas.pydata.org/pandas-docs/stable/user_guide/indexing.html#returning-a-view-versus-a-copy\n",
      "  df_na['kriging_prediction'] = z_na\n",
      "C:\\Users\\11ser\\AppData\\Local\\Temp\\ipykernel_15460\\2659620909.py:8: SettingWithCopyWarning: \n",
      "A value is trying to be set on a copy of a slice from a DataFrame.\n",
      "Try using .loc[row_indexer,col_indexer] = value instead\n",
      "\n",
      "See the caveats in the documentation: https://pandas.pydata.org/pandas-docs/stable/user_guide/indexing.html#returning-a-view-versus-a-copy\n",
      "  df_na['kriging_variance'] = ss_na\n"
     ]
    },
    {
     "data": {
      "image/png": "[encoded data removed]",
      "text/plain": [
       "<Figure size 1000x600 with 2 Axes>"
      ]
     },
     "metadata": {},
     "output_type": "display_data"
    }
   ],
   "source": [
    "# Perform the interpolation\n",
    "#z, ss = ok.execute('points', grid.geometry.apply(lambda geom: geom.x), grid.geometry.apply(lambda geom: geom.y))\n",
    "# Perform the interpolation for df_na\n",
    "z_na, ss_na = ok.execute('points', df_na.geometry.apply(lambda geom: geom.x), df_na.geometry.apply(lambda geom: geom.y))\n",
    "\n",
    "# Add the interpolation results to df_na\n",
    "df_na['kriging_prediction'] = z_na\n",
    "df_na['kriging_variance'] = ss_na\n",
    "\n",
    "# Añadir los resultados de la interpolación al GeoDataFrame de la cuadrícula\n",
    "#grid['kriging_prediction'] = z\n",
    "#grid['kriging_variance'] = ss\n",
    "\n",
    "# Convertir a Web Mercator para la visualización\n",
    "grid_webmercator = grid.to_crs(epsg=3857)\n",
    "\n",
    "# Plotting the Kriging results\n",
    "fig, ax = plt.subplots(1, 1, figsize=(10, 6))\n",
    "grid_webmercator.plot(column='kriging_prediction', ax=ax, legend=True, cmap='viridis', edgecolor='k')\n",
    "\n",
    "# Add contextily basemap (Web Mercator)\n",
    "# ctx.add_basemap(ax, source=ctx.providers.OpenStreetMap.Mapnik)\n",
    "\n",
    "# Add title and labels\n",
    "ax.set_title('Interpolated Pollutant Concentrations (Kriging Results)')\n",
    "plt.show()"
   ]
  },
  {
   "cell_type": "code",
   "execution_count": 23,
   "metadata": {},
   "outputs": [
    {
     "ename": "AttributeError",
     "evalue": "'DataFrame' object has no attribute 'to_crs'",
     "output_type": "error",
     "traceback": [
      "\u001b[1;31m---------------------------------------------------------------------------\u001b[0m",
      "\u001b[1;31mAttributeError\u001b[0m                            Traceback (most recent call last)",
      "\u001b[1;32m~\\AppData\\Local\\Temp\\ipykernel_15460\\1218807673.py\u001b[0m in \u001b[0;36m?\u001b[1;34m()\u001b[0m\n\u001b[0;32m      1\u001b[0m \u001b[1;31m# Create a copy and convert to the correct CRS for folium (WGS84)\u001b[0m\u001b[1;33m\u001b[0m\u001b[1;33m\u001b[0m\u001b[0m\n\u001b[1;32m----> 2\u001b[1;33m \u001b[0mdf_obs_wgs84\u001b[0m \u001b[1;33m=\u001b[0m \u001b[0mdf_obs\u001b[0m\u001b[1;33m.\u001b[0m\u001b[0mcopy\u001b[0m\u001b[1;33m(\u001b[0m\u001b[1;33m)\u001b[0m\u001b[1;33m.\u001b[0m\u001b[0mto_crs\u001b[0m\u001b[1;33m(\u001b[0m\u001b[0mepsg\u001b[0m\u001b[1;33m=\u001b[0m\u001b[1;36m4326\u001b[0m\u001b[1;33m)\u001b[0m\u001b[1;33m\u001b[0m\u001b[1;33m\u001b[0m\u001b[0m\n\u001b[0m\u001b[0;32m      3\u001b[0m \u001b[1;33m\u001b[0m\u001b[0m\n\u001b[0;32m      4\u001b[0m \u001b[1;31m# Extract lat and lon for folium\u001b[0m\u001b[1;33m\u001b[0m\u001b[1;33m\u001b[0m\u001b[0m\n\u001b[0;32m      5\u001b[0m \u001b[0mdf_obs_wgs84\u001b[0m\u001b[1;33m[\u001b[0m\u001b[1;34m'lon'\u001b[0m\u001b[1;33m]\u001b[0m \u001b[1;33m=\u001b[0m \u001b[0mdf_obs_wgs84\u001b[0m\u001b[1;33m.\u001b[0m\u001b[0mgeometry\u001b[0m\u001b[1;33m.\u001b[0m\u001b[0mx\u001b[0m\u001b[1;33m\u001b[0m\u001b[1;33m\u001b[0m\u001b[0m\n",
      "\u001b[1;32m~\\AppData\\Local\\Packages\\PythonSoftwareFoundation.Python.3.12_qbz5n2kfra8p0\\LocalCache\\local-packages\\Python312\\site-packages\\pandas\\core\\generic.py\u001b[0m in \u001b[0;36m?\u001b[1;34m(self, name)\u001b[0m\n\u001b[0;32m   6295\u001b[0m             \u001b[1;32mand\u001b[0m \u001b[0mname\u001b[0m \u001b[1;32mnot\u001b[0m \u001b[1;32min\u001b[0m \u001b[0mself\u001b[0m\u001b[1;33m.\u001b[0m\u001b[0m_accessors\u001b[0m\u001b[1;33m\u001b[0m\u001b[1;33m\u001b[0m\u001b[0m\n\u001b[0;32m   6296\u001b[0m             \u001b[1;32mand\u001b[0m \u001b[0mself\u001b[0m\u001b[1;33m.\u001b[0m\u001b[0m_info_axis\u001b[0m\u001b[1;33m.\u001b[0m\u001b[0m_can_hold_identifiers_and_holds_name\u001b[0m\u001b[1;33m(\u001b[0m\u001b[0mname\u001b[0m\u001b[1;33m)\u001b[0m\u001b[1;33m\u001b[0m\u001b[1;33m\u001b[0m\u001b[0m\n\u001b[0;32m   6297\u001b[0m         \u001b[1;33m)\u001b[0m\u001b[1;33m:\u001b[0m\u001b[1;33m\u001b[0m\u001b[1;33m\u001b[0m\u001b[0m\n\u001b[0;32m   6298\u001b[0m             \u001b[1;32mreturn\u001b[0m \u001b[0mself\u001b[0m\u001b[1;33m[\u001b[0m\u001b[0mname\u001b[0m\u001b[1;33m]\u001b[0m\u001b[1;33m\u001b[0m\u001b[1;33m\u001b[0m\u001b[0m\n\u001b[1;32m-> 6299\u001b[1;33m         \u001b[1;32mreturn\u001b[0m \u001b[0mobject\u001b[0m\u001b[1;33m.\u001b[0m\u001b[0m__getattribute__\u001b[0m\u001b[1;33m(\u001b[0m\u001b[0mself\u001b[0m\u001b[1;33m,\u001b[0m \u001b[0mname\u001b[0m\u001b[1;33m)\u001b[0m\u001b[1;33m\u001b[0m\u001b[1;33m\u001b[0m\u001b[0m\n\u001b[0m",
      "\u001b[1;31mAttributeError\u001b[0m: 'DataFrame' object has no attribute 'to_crs'"
     ]
    }
   ],
   "source": [
    "# Create a copy and convert to the correct CRS for folium (WGS84)\n",
    "df_obs_wgs84 = df_obs.copy().to_crs(epsg=4326)\n",
    "\n",
    "# Extract lat and lon for folium\n",
    "df_obs_wgs84['lon'] = df_obs_wgs84.geometry.x\n",
    "df_obs_wgs84['lat'] = df_obs_wgs84.geometry.y\n",
    "\n",
    "# Create a colormap\n",
    "norm = mcolors.Normalize(vmin=df_obs_wgs84['kriging_prediction'].min(), vmax=df_obs_wgs84['kriging_prediction'].max())\n",
    "cmap = plt.cm.viridis\n",
    "\n",
    "# Create a folium map centered around the data\n",
    "map_center = [df_obs_wgs84['lat'].mean(), df_obs_wgs84['lon'].mean()]\n",
    "m = folium.Map(location=map_center, zoom_start=12)\n",
    "\n",
    "# Add circle markers for each observation location with color based on kriging prediction\n",
    "for idx, row in df_obs_wgs84.iterrows():\n",
    "    color = mcolors.to_hex(cmap(norm(row['kriging_prediction'])))\n",
    "    folium.CircleMarker(\n",
    "        location=[row['lat'], row['lon']],\n",
    "        radius=5,\n",
    "        color=color,\n",
    "        fill=True,\n",
    "        fill_color=color,\n",
    "        fill_opacity=0.7,\n",
    "        popup=f\"Pollutant: {row['kriging_prediction']:.2f}\"\n",
    "    ).add_to(m)\n",
    "\n",
    "# Save the map to an HTML file and display it\n",
    "#m.save('map.html')\n",
    "\n"
   ]
  }
 ],
 "metadata": {
  "kernelspec": {
   "display_name": "Python 3",
   "language": "python",
   "name": "python3"
  },
  "language_info": {
   "codemirror_mode": {
    "name": "ipython",
    "version": 3
   },
   "file_extension": ".py",
   "mimetype": "text/x-python",
   "name": "python",
   "nbconvert_exporter": "python",
   "pygments_lexer": "ipython3",
   "version": "3.12.8"
  }
 },
 "nbformat": 4,
 "nbformat_minor": 2
}
