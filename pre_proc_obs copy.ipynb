{
 "cells": [
  {
   "cell_type": "code",
   "execution_count": 1,
   "metadata": {},
   "outputs": [],
   "source": [
    "import pandas as pd\n",
    "import numpy as np\n",
    "import matplotlib.pyplot as plt\n",
    "import seaborn as sns\n",
    "from sklearn.model_selection import train_test_split\n",
    "from sklearn.linear_model import LinearRegression\n",
    "from sklearn.metrics import mean_squared_error\n",
    "from sklearn.metrics import r2_score\n",
    "from sklearn.preprocessing import PolynomialFeatures\n",
    "from sklearn.linear_model import Ridge\n",
    "from sklearn.linear_model import Lasso\n",
    "from sklearn.linear_model import ElasticNet\n",
    "from sklearn.ensemble import RandomForestRegressor\n",
    "from sklearn.svm import SVR\n",
    "\n",
    "\n",
    "import geopandas as gpd\n",
    "import numpy as np\n",
    "import pandas as pd\n",
    "from pykrige.ok import OrdinaryKriging\n",
    "from pykrige.uk import UniversalKriging\n",
    "from shapely.geometry import Point, Polygon\n",
    "from sklearn.model_selection import train_test_split\n",
    "import matplotlib.pyplot as plt\n",
    "import descartes\n",
    "import math\n",
    "import matplotlib.colors as mcolors\n",
    "import pyproj\n",
    "import folium"
   ]
  },
  {
   "cell_type": "code",
   "execution_count": 2,
   "metadata": {},
   "outputs": [],
   "source": [
    "wdir = \"../Dades/AMS_Observacions/\"\n",
    "crs_latlon = 'EPSG:4326'  # WGS84\n",
    "crs_utm = \"EPSG:32631\""
   ]
  },
  {
   "cell_type": "code",
   "execution_count": 3,
   "metadata": {},
   "outputs": [
    {
     "name": "stdout",
     "output_type": "stream",
     "text": [
      "        Station                 Date   no2\n",
      "2       ES1480A  2022-12-31 23:00:00  62.0\n",
      "3       ES1396A  2022-12-31 23:00:00  60.0\n",
      "4       ES1992A  2022-12-31 23:00:00  45.0\n",
      "5       ES0691A  2022-12-31 23:00:00  43.0\n",
      "6       ES0692A  2022-12-31 23:00:00  45.0\n",
      "...         ...                  ...   ...\n",
      "560633  ES2017A  2023-12-31 22:00:00   7.0\n",
      "560634  ES1930A  2023-12-31 22:00:00   1.0\n",
      "560635  ES1948A  2023-12-31 22:00:00   3.0\n",
      "560636  ES1855A  2023-12-31 22:00:00   2.0\n",
      "560637  ES1854A  2023-12-31 22:00:00   1.0\n",
      "\n",
      "[529219 rows x 3 columns]\n",
      "        Station                 Date   no2        lat       lon  \\\n",
      "0       ES1480A  2022-12-31 23:00:00  62.0  41.398762  2.153472   \n",
      "1       ES1396A  2022-12-31 23:00:00  60.0  41.378803  2.133098   \n",
      "2       ES1992A  2022-12-31 23:00:00  45.0  41.387273  2.115661   \n",
      "3       ES0691A  2022-12-31 23:00:00  43.0  41.403716  2.204736   \n",
      "4       ES0692A  2022-12-31 23:00:00  45.0  41.370760  2.114771   \n",
      "...         ...                  ...   ...        ...       ...   \n",
      "529214  ES2017A  2023-12-31 22:00:00   7.0  40.552819  0.529983   \n",
      "529215  ES1930A  2023-12-31 22:00:00   1.0  40.902693  0.809795   \n",
      "529216  ES1948A  2023-12-31 22:00:00   3.0  40.939553  0.831337   \n",
      "529217  ES1855A  2023-12-31 22:00:00   2.0  41.009506  0.912876   \n",
      "529218  ES1854A  2023-12-31 22:00:00   1.0  41.008212  0.831085   \n",
      "\n",
      "                    geometry  \n",
      "0       POINT (2.153 41.399)  \n",
      "1       POINT (2.133 41.379)  \n",
      "2       POINT (2.116 41.387)  \n",
      "3       POINT (2.205 41.404)  \n",
      "4       POINT (2.115 41.371)  \n",
      "...                      ...  \n",
      "529214   POINT (0.53 40.553)  \n",
      "529215   POINT (0.81 40.903)  \n",
      "529216   POINT (0.831 40.94)  \n",
      "529217   POINT (0.913 41.01)  \n",
      "529218  POINT (0.831 41.008)  \n",
      "\n",
      "[529219 rows x 6 columns]\n"
     ]
    }
   ],
   "source": [
    "df_no2 = pd.read_csv('../Dades/AMS_Observacions/gene_sconcno2_2023_xvpca_emep_port.csv') \n",
    "df_estacions = pd.read_csv('../Dades/AMS_Observacions/XVPCA_info_sconcno2_2023.csv')\n",
    "\n",
    "\n",
    "# Convert 'Date' column to datetime format\n",
    "df_no2['Date'] = pd.to_datetime(df_no2['Date'])\n",
    "\n",
    "# Pivot the dataframe to have each station ID as a column and the Date as the index\n",
    "# columnas_es = [col for col in df_no2.columns if col.startswith('ES')]\n",
    "columnas_es =df_no2.drop(['Date'], axis=1)\n",
    "\n",
    "\n",
    "# Transpose the dataframe to have each station ID as a row and the Date as the column\n",
    "df_no2_transposed = df_no2.set_index('Date').transpose().reset_index()\n",
    "\n",
    "# Melt the dataframe to have a 'Value' column for each hour\n",
    "df_no2_melted = pd.melt(df_no2_transposed, id_vars=['index'], var_name='Date', value_name='no2')\n",
    "\n",
    "# Rename the 'index' column to 'Station'\n",
    "df_no2_melted.rename(columns={'index': 'Station'}, inplace=True)\n",
    "\n",
    "# Drop rows with NaN values\n",
    "df_no2_melted.dropna(subset=['no2'], inplace=True)\n",
    "\n",
    "print(df_no2_melted)\n",
    "\n",
    "# Join the melted dataframe with the station information dataframe\n",
    "df_obs = pd.merge(df_no2_melted, df_estacions, left_on='Station', right_on='code', how='inner')\n",
    "\n",
    "# Drop the 'code' column as it is redundant\n",
    "df_obs.drop(columns=['code','type'], inplace=True)\n",
    "df_obs['geometry'] = gpd.points_from_xy(df_obs['lon'], df_obs['lat'], crs=crs_utm)\n",
    "print(df_obs)"
   ]
  },
  {
   "cell_type": "code",
   "execution_count": 4,
   "metadata": {},
   "outputs": [
    {
     "name": "stdout",
     "output_type": "stream",
     "text": [
      "    sourceid  prioridad                                         geometry\n",
      "0  198794320   0.166667  LINESTRING (1.99488 41.66973, 1.99502 41.66971)\n",
      "1  198935562   0.333333  LINESTRING (2.23387 41.94304, 2.23386 41.94206)\n",
      "2  198944072   0.333333  LINESTRING (1.68342 41.33341, 1.68353 41.33318)\n",
      "3  198965364   0.166667  LINESTRING (2.01923 41.57089, 2.01926 41.57088)\n",
      "4  198965365   0.166667  LINESTRING (2.01857 41.57034, 2.01852 41.57033)\n"
     ]
    }
   ],
   "source": [
    "# Cargar el shapefile\n",
    "archivo_shapefile = \"../Dades/OpenTransportMap/Barcelona/roadlinks_ES511.shp\"\n",
    "gdf_barcelona = gpd.read_file(archivo_shapefile)\n",
    "gdf_girona = gpd.read_file(\"../Dades/OpenTransportMap/Girona/roadlinks_ES512.shp\")\n",
    "gdf_lleida = gpd.read_file(\"../Dades/OpenTransportMap/Lleida/roadlinks_ES513.shp\")\n",
    "gdf_tarragona = gpd.read_file(\"../Dades/OpenTransportMap/Tarragona/roadlinks_ES514.shp\")\n",
    "\n",
    "# Concatenate the GeoDataFrames\n",
    "#gdf = pd.concat([gdf_barcelona, gdf_girona, gdf_lleida, gdf_tarragona], ignore_index=True)\n",
    "\n",
    "gdf = gdf_barcelona\n",
    "\n",
    "\n",
    "# Mostrar las primeras filas de la tabla de atributos\n",
    "#print(gdf['functional'].head())\n",
    "\n",
    "# Obtener los tipos únicos de la columna 'functional'\n",
    "tipos_functional = gdf['functional'].unique()\n",
    "\n",
    "# Asignar valores de prioridad a las categorías\n",
    "valores_prioridad = {\n",
    "    'mainRoad': 6 / 6,\n",
    "    'firstClass': 5 / 6,\n",
    "    'secondClass': 4 / 6,\n",
    "    'thirdClass': 3 / 6,\n",
    "    'fourthClass': 2 / 6,\n",
    "    'fifthClass': 1 / 6,    \n",
    "}\n",
    "\n",
    "# Crear una nueva columna en el GeoDataFrame con los valores de prioridad\n",
    "gdf['prioridad'] = gdf['functional'].map(valores_prioridad)\n",
    "\n",
    "# Crear un nuevo DataFrame con las columnas 'sourceid', 'functional' y 'prioridad'\n",
    "df_transport = gdf[['sourceid', 'prioridad','geometry']].drop_duplicates().reset_index(drop=True)\n",
    "# Simplificar la geometría\n",
    "df_transport['geometry'] = df_transport['geometry'].simplify(tolerance=0.01, preserve_topology=True)\n",
    "\n",
    "print(df_transport.head())\n",
    "\n",
    "# Guardar el GeoDataFrame en un archivo CSV\n",
    "#gdf.to_csv(\"./carreteres.csv\", index=False)\n"
   ]
  },
  {
   "cell_type": "code",
   "execution_count": 26,
   "metadata": {},
   "outputs": [
    {
     "name": "stdout",
     "output_type": "stream",
     "text": [
      "   Station                 Date   no2        lat       lon  \\\n",
      "0  ES1480A  2022-12-31 23:00:00  62.0  41.398762  2.153472   \n",
      "1  ES1396A  2022-12-31 23:00:00  60.0  41.378803  2.133098   \n",
      "2  ES1992A  2022-12-31 23:00:00  45.0  41.387273  2.115661   \n",
      "3  ES0691A  2022-12-31 23:00:00  43.0  41.403716  2.204736   \n",
      "4  ES0692A  2022-12-31 23:00:00  45.0  41.370760  2.114771   \n",
      "\n",
      "               geometry  \n",
      "0  POINT (2.153 41.399)  \n",
      "1  POINT (2.133 41.379)  \n",
      "2  POINT (2.116 41.387)  \n",
      "3  POINT (2.205 41.404)  \n",
      "4  POINT (2.115 41.371)  \n"
     ]
    },
    {
     "data": {
      "text/html": [
       "<div>\n",
       "<style scoped>\n",
       "    .dataframe tbody tr th:only-of-type {\n",
       "        vertical-align: middle;\n",
       "    }\n",
       "\n",
       "    .dataframe tbody tr th {\n",
       "        vertical-align: top;\n",
       "    }\n",
       "\n",
       "    .dataframe thead th {\n",
       "        text-align: right;\n",
       "    }\n",
       "</style>\n",
       "<table border=\"1\" class=\"dataframe\">\n",
       "  <thead>\n",
       "    <tr style=\"text-align: right;\">\n",
       "      <th></th>\n",
       "      <th>Station</th>\n",
       "      <th>Date</th>\n",
       "      <th>no2</th>\n",
       "      <th>lat</th>\n",
       "      <th>lon</th>\n",
       "      <th>geometry</th>\n",
       "    </tr>\n",
       "  </thead>\n",
       "  <tbody>\n",
       "    <tr>\n",
       "      <th>0</th>\n",
       "      <td>ES1480A</td>\n",
       "      <td>2022-12-31 23:00:00</td>\n",
       "      <td>62.0</td>\n",
       "      <td>41.398762</td>\n",
       "      <td>2.153472</td>\n",
       "      <td>POINT (2.153 41.399)</td>\n",
       "    </tr>\n",
       "    <tr>\n",
       "      <th>1</th>\n",
       "      <td>ES1396A</td>\n",
       "      <td>2022-12-31 23:00:00</td>\n",
       "      <td>60.0</td>\n",
       "      <td>41.378803</td>\n",
       "      <td>2.133098</td>\n",
       "      <td>POINT (2.133 41.379)</td>\n",
       "    </tr>\n",
       "    <tr>\n",
       "      <th>2</th>\n",
       "      <td>ES1992A</td>\n",
       "      <td>2022-12-31 23:00:00</td>\n",
       "      <td>45.0</td>\n",
       "      <td>41.387273</td>\n",
       "      <td>2.115661</td>\n",
       "      <td>POINT (2.116 41.387)</td>\n",
       "    </tr>\n",
       "    <tr>\n",
       "      <th>3</th>\n",
       "      <td>ES0691A</td>\n",
       "      <td>2022-12-31 23:00:00</td>\n",
       "      <td>43.0</td>\n",
       "      <td>41.403716</td>\n",
       "      <td>2.204736</td>\n",
       "      <td>POINT (2.205 41.404)</td>\n",
       "    </tr>\n",
       "    <tr>\n",
       "      <th>4</th>\n",
       "      <td>ES0692A</td>\n",
       "      <td>2022-12-31 23:00:00</td>\n",
       "      <td>45.0</td>\n",
       "      <td>41.370760</td>\n",
       "      <td>2.114771</td>\n",
       "      <td>POINT (2.115 41.371)</td>\n",
       "    </tr>\n",
       "  </tbody>\n",
       "</table>\n",
       "</div>"
      ],
      "text/plain": [
       "   Station                 Date   no2        lat       lon  \\\n",
       "0  ES1480A  2022-12-31 23:00:00  62.0  41.398762  2.153472   \n",
       "1  ES1396A  2022-12-31 23:00:00  60.0  41.378803  2.133098   \n",
       "2  ES1992A  2022-12-31 23:00:00  45.0  41.387273  2.115661   \n",
       "3  ES0691A  2022-12-31 23:00:00  43.0  41.403716  2.204736   \n",
       "4  ES0692A  2022-12-31 23:00:00  45.0  41.370760  2.114771   \n",
       "\n",
       "               geometry  \n",
       "0  POINT (2.153 41.399)  \n",
       "1  POINT (2.133 41.379)  \n",
       "2  POINT (2.116 41.387)  \n",
       "3  POINT (2.205 41.404)  \n",
       "4  POINT (2.115 41.371)  "
      ]
     },
     "execution_count": 26,
     "metadata": {},
     "output_type": "execute_result"
    }
   ],
   "source": [
    "df_caliope = pd.read_csv('../Dades/NO2.csv') \n",
    "\n",
    "df_caliope.rename(columns={'sconcno2': 'no2', 'time': 'Date'}, inplace=True)\n",
    "\n",
    "df_caliope['geometry'] = gpd.points_from_xy(df_caliope['lon'], df_caliope['lat'], crs=crs_utm)\n",
    "\n",
    "df_combined = pd.concat([df_obs, df_caliope], ignore_index=True)\n",
    "\n",
    "# Convert df_combined to a GeoDataFrame\n",
    "df_combined = gpd.GeoDataFrame(df_combined, geometry='geometry', crs=crs_utm)\n",
    "\n",
    "# Display the first few rows to verify the conversion\n",
    "df_combined.head()\n"
   ]
  },
  {
   "cell_type": "code",
   "execution_count": 10,
   "metadata": {},
   "outputs": [
    {
     "name": "stdout",
     "output_type": "stream",
     "text": [
      "Max NO2: 34.580633549316055\n",
      "Min NO2: 0.00010403053067096775\n"
     ]
    }
   ],
   "source": [
    "# Agrupar por 'geometry' y calcular la media de 'no2'\n",
    "df_combined_mean = df_combined.groupby('geometry')['no2'].mean().reset_index()\n",
    "\n",
    "# Mostrar el resultado\n",
    "print(\"Max NO2:\", df_combined_mean['no2'].max())\n",
    "print(\"Min NO2:\", df_combined_mean['no2'].min())"
   ]
  },
  {
   "cell_type": "code",
   "execution_count": 40,
   "metadata": {},
   "outputs": [
    {
     "name": "stdout",
     "output_type": "stream",
     "text": [
      "(82908, 2)\n",
      "Adjusting data for anisotropy...\n",
      "Initializing variogram model...\n",
      "Coordinates type: 'euclidean' \n",
      "\n",
      "Using 'linear' Variogram Model\n",
      "Slope: 3.534096855390133e-28\n",
      "Nugget: 0.2044078436300267 \n",
      "\n",
      "Calculating statistics on variogram model fit...\n"
     ]
    }
   ],
   "source": [
    "# Use a smaller subset of the data for kriging\n",
    "print(df_combined_mean.shape)\n",
    "subset_size = 10000  # Adjust this value based on available memory\n",
    "df_subset = df_combined_mean.sample(n=subset_size, random_state=42)\n",
    "\n",
    "ok = OrdinaryKriging(\n",
    "    df_subset.geometry.apply(lambda geom: geom.x), \n",
    "    df_subset.geometry.apply(lambda geom: geom.y), \n",
    "    df_subset['no2'].values,\n",
    "    variogram_model='linear',\n",
    "    verbose=True, \n",
    "    enable_plotting=False,\n",
    "    nlags=25\n",
    ")"
   ]
  },
  {
   "cell_type": "code",
   "execution_count": 41,
   "metadata": {},
   "outputs": [
    {
     "name": "stdout",
     "output_type": "stream",
     "text": [
      "               geometry\n",
      "0   POINT (2.01 41.392)\n",
      "1  POINT (1.192 41.116)\n",
      "2  POINT (2.238 41.444)\n",
      "3  POINT (2.082 41.322)\n",
      "Executing Ordinary Kriging...\n",
      "\n",
      "               geometry  predicted_no2\n",
      "0   POINT (2.01 41.392)       0.015324\n",
      "1  POINT (1.192 41.116)       0.015324\n",
      "2  POINT (2.238 41.444)       0.015324\n",
      "3  POINT (2.082 41.322)       0.015324\n"
     ]
    }
   ],
   "source": [
    "# Crear un GeoDataFrame con las ubicaciones de observación\n",
    "#points = [(2.009802, 41.39216), (1.191975, 41.11588), (2.237875, 41.44398), (2.082141, 41.32177)]\n",
    "\n",
    "#obs_locations = gpd.GeoDataFrame(pi, geometry='geometry', crs=crs_utm)\n",
    "\n",
    "obs_locations = gpd.GeoDataFrame(\n",
    "    {'geometry': [Point(2.009802, 41.39216), Point(1.191975, 41.11588), Point(2.237875, 41.44398), Point(2.082141, 41.32177)]},\n",
    "    crs=crs_utm\n",
    ")\n",
    "\n",
    "# Convertir las coordenadas a UTM\n",
    "#obs_locations = obs_locations.to_crs(crs_utm)\n",
    "\n",
    "print(obs_locations)\n",
    "\n",
    "# Ejecutar el modelo de kriging para predecir los valores en estas ubicaciones\n",
    "z, ss = ok.execute('points', obs_locations.geometry.x, obs_locations.geometry.y)\n",
    "\n",
    "# Mostrar los resultados\n",
    "obs_locations['predicted_no2'] = z\n",
    "print(obs_locations)"
   ]
  },
  {
   "cell_type": "code",
   "execution_count": 44,
   "metadata": {},
   "outputs": [
    {
     "name": "stdout",
     "output_type": "stream",
     "text": [
      "               geometry  predicted_value\n",
      "0   POINT (2.01 41.392)         0.466110\n",
      "1  POINT (1.192 41.116)         0.193046\n",
      "2  POINT (2.238 41.444)         0.289827\n",
      "3  POINT (2.082 41.322)         0.389294\n"
     ]
    }
   ],
   "source": [
    "from scipy.spatial import cKDTree\n",
    "import numpy as np\n",
    "import geopandas as gpd\n",
    "from shapely.geometry import Point\n",
    "\n",
    "# Crear GeoDataFrame con puntos de predicción\n",
    "obs_locations = gpd.GeoDataFrame(\n",
    "    {'geometry': [Point(2.009802, 41.39216), Point(1.191975, 41.11588), \n",
    "                  Point(2.237875, 41.44398), Point(2.082141, 41.32177)]},\n",
    "    crs=crs_utm\n",
    ")\n",
    "\n",
    "# Extraer coordenadas y valores del dataset conocido\n",
    "coords = np.array([(geom.x, geom.y) for geom in df_combined_mean.geometry])\n",
    "values = df_combined_mean['no2'].values\n",
    "\n",
    "# Crear el árbol KD\n",
    "tree = cKDTree(coords)\n",
    "\n",
    "# Función IDW\n",
    "def idw(x, y, tree, coords, values, power=2):\n",
    "    \"\"\"\n",
    "    Interpolación por inverso de la distancia (IDW).\n",
    "    - x, y: Coordenadas de predicción\n",
    "    - tree: KDTree construido con los datos conocidos\n",
    "    - coords: Coordenadas conocidas\n",
    "    - values: Valores conocidos\n",
    "    - power: Peso de la distancia\n",
    "    \"\"\"\n",
    "    # Encontrar distancias y vecinos\n",
    "    distances, idx = tree.query(np.c_[x, y], k=len(coords))\n",
    "    \n",
    "    # Manejo de distancias 0 (puntos coincidentes)\n",
    "    distances[distances == 0] = 1e-10  # Evitar división por cero\n",
    "    \n",
    "    # Calcular pesos inversos a las distancias\n",
    "    weights = 1 / distances**power\n",
    "    \n",
    "    # Normalizar los pesos\n",
    "    weights /= np.sum(weights, axis=1, keepdims=True)\n",
    "    \n",
    "    # Calcular valores interpolados\n",
    "    interpolated_values = np.sum(weights * values[idx], axis=1)\n",
    "    return interpolated_values\n",
    "\n",
    "# Coordenadas de los puntos a predecir\n",
    "prediction_coords = np.array([(geom.x, geom.y) for geom in obs_locations.geometry])\n",
    "x_pred, y_pred = prediction_coords[:, 0], prediction_coords[:, 1]\n",
    "\n",
    "# Aplicar IDW a los puntos\n",
    "obs_locations['predicted_value'] = idw(x_pred, y_pred, tree, coords, values)\n",
    "\n",
    "print(obs_locations)\n"
   ]
  },
  {
   "cell_type": "code",
   "execution_count": 50,
   "metadata": {},
   "outputs": [
    {
     "name": "stdout",
     "output_type": "stream",
     "text": [
      "[LightGBM] [Info] Auto-choosing row-wise multi-threading, the overhead of testing was 0.129103 seconds.\n",
      "You can set `force_row_wise=true` to remove the overhead.\n",
      "And if memory is not enough, you can set `force_col_wise=true`.\n",
      "[LightGBM] [Info] Total Bins 60\n",
      "[LightGBM] [Info] Number of data points in the train set: 10743375, number of used features: 5\n",
      "[LightGBM] [Info] Start training from score 0.635825\n",
      "Mean Squared Error: 9.6576\n",
      "R^2 Score: 0.5022\n",
      "Mean Absolute Error: 0.5132\n",
      "Root Mean Squared Error: 3.1077\n"
     ]
    },
    {
     "data": {
      "image/png": "[encoded data removed]",
      "text/plain": [
       "<Figure size 640x480 with 1 Axes>"
      ]
     },
     "metadata": {},
     "output_type": "display_data"
    }
   ],
   "source": [
    "import pandas as pd\n",
    "import numpy as np\n",
    "from sklearn.model_selection import train_test_split\n",
    "from sklearn.metrics import mean_squared_error, r2_score, mean_absolute_error\n",
    "import lightgbm as lgb\n",
    "\n",
    "# Convertir la columna 'Date' a datetime si no lo está ya\n",
    "df_combined['Date'] = pd.to_datetime(df_combined['Date'])\n",
    "\n",
    "# Extraer características de tiempo\n",
    "df_combined['year'] = df_combined['Date'].dt.year\n",
    "df_combined['month'] = df_combined['Date'].dt.month\n",
    "df_combined['day'] = df_combined['Date'].dt.day\n",
    "df_combined['hour'] = df_combined['Date'].dt.hour\n",
    "\n",
    "# Transformaciones cíclicas para variables de tiempo\n",
    "df_combined['month_sin'] = np.sin(2 * np.pi * df_combined['month'] / 12)\n",
    "df_combined['month_cos'] = np.cos(2 * np.pi * df_combined['month'] / 12)\n",
    "df_combined['hour_sin'] = np.sin(2 * np.pi * df_combined['hour'] / 24)\n",
    "df_combined['hour_cos'] = np.cos(2 * np.pi * df_combined['hour'] / 24)\n",
    "\n",
    "# Seleccionar características y variable objetivo\n",
    "X = df_combined[['month_sin', 'month_cos', 'hour_sin', 'hour_cos', 'year']]\n",
    "y = df_combined['no2']\n",
    "\n",
    "# Dividir los datos en conjuntos de entrenamiento y prueba\n",
    "X_train, X_test, y_train, y_test = train_test_split(X, y, test_size=0.2, random_state=42)\n",
    "\n",
    "# Crear el dataset de LightGBM\n",
    "train_data = lgb.Dataset(X_train, label=y_train)\n",
    "test_data = lgb.Dataset(X_test, label=y_test, reference=train_data)\n",
    "\n",
    "# Definir los parámetros del modelo\n",
    "params = {\n",
    "    'objective': 'regression',\n",
    "    'metric': 'rmse',\n",
    "    'boosting_type': 'gbdt',\n",
    "    'num_leaves': 31,\n",
    "    'learning_rate': 0.05,\n",
    "    'feature_fraction': 0.9\n",
    "}\n",
    "\n",
    "# Entrenar el modelo\n",
    "# Entrenar el modelo\n",
    "model = lgb.train(\n",
    "    params,\n",
    "    train_data,\n",
    "    valid_sets=[test_data],  # Conjunto de validación\n",
    "    num_boost_round=1000,\n",
    ")\n",
    "\n",
    "# Hacer predicciones\n",
    "y_pred = model.predict(X_test)\n",
    "\n",
    "\n",
    "# Evaluar el modelo\n",
    "mse = mean_squared_error(y_test, y_pred)\n",
    "r2 = r2_score(y_test, y_pred)\n",
    "mae = mean_absolute_error(y_test, y_pred)\n",
    "rmse = np.sqrt(mse)\n",
    "\n",
    "print(f'Mean Squared Error: {mse:.4f}')\n",
    "print(f'R^2 Score: {r2:.4f}')\n",
    "print(f'Mean Absolute Error: {mae:.4f}')\n",
    "print(f'Root Mean Squared Error: {rmse:.4f}')\n",
    "\n",
    "# Visualizar predicciones vs. valores reales\n",
    "import matplotlib.pyplot as plt\n",
    "plt.scatter(y_test, y_pred, alpha=0.5)\n",
    "plt.plot([y_test.min(), y_test.max()], [y_test.min(), y_test.max()], 'r--', lw=2)\n",
    "plt.xlabel(\"True Values\")\n",
    "plt.ylabel(\"Predicted Values\")\n",
    "plt.title(\"Predicciones vs. Valores Reales\")\n",
    "plt.show()\n"
   ]
  },
  {
   "cell_type": "code",
   "execution_count": null,
   "metadata": {
    "vscode": {
     "languageId": "javascript"
    }
   },
   "outputs": [],
   "source": [
    "data = {\n",
    "    'ID': [1, 2, 3, 4, 5],\n",
    "    'Date': ['2023-01-01 00:00', '2023-01-01 00:00', '2023-01-01 00:00', '2023-01-01 01:00', '2023-01-01 02:00'],\n",
    "    'Longitude': [2.082141, 2.237875, 2.009802, 2.082141, 2.082141],\n",
    "    'Latitude': [41.32177, 41.44398, 41.39216, 41.32177, 41.32177],\n",
    "    'Value': [30.9, 17.0, 19.1, 28.3, 24.7]\n",
    "}\n",
    "\n",
    "df_points = pd.DataFrame(data)\n",
    "print(df_points)"
   ]
  },
  {
   "cell_type": "code",
   "execution_count": 51,
   "metadata": {},
   "outputs": [
    {
     "data": {
      "text/plain": [
       "'from scipy.interpolate import griddata\\nlat_grid = np.linspace(df_combined[\"lat\"].min(), df_combined[\"lat\"].max(), 100)  # 100 puntos de latitud\\nlon_grid = np.linspace(df_combined[\"lon\"].min(), df_combined[\"lon\"].max(), 100)  # 100 puntos de longitud\\nlon_mesh, lat_mesh = np.meshgrid(lon_grid, lat_grid)  # Crear la malla de la rejilla\\n\\n# Realizar la interpolación bilineal\\npoints = np.array([df_combined[\"lat\"], df_combined[\"lon\"]]).T  # Puntos de entrada (lat, lon)\\nvalues = df_combined[\"no2\"]  # Valores de NO2 en los puntos\\ngrid_no2 = griddata(points, values, (lat_mesh, lon_mesh), method=\"linear\")  # Interpolación\\n\\n# Visualización del resultado\\nplt.figure(figsize=(8, 6))\\nplt.contourf(lon_mesh, lat_mesh, grid_no2, levels=100, cmap=\"viridis\")  # Contorno interpolado\\nplt.colorbar(label=\"NO2 Concentration\")\\nplt.scatter(df_combined[\"lon\"], df_combined[\"lat\"], c=df_combined[\"no2\"], cmap=\"viridis\", edgecolor=\"k\", label=\"Data Points\")  # Puntos originales\\nplt.xlabel(\"Longitude\")\\nplt.ylabel(\"Latitude\")\\nplt.legend()\\nplt.title(\"Interpolación Bilineal de NO2\")\\nplt.show()'"
      ]
     },
     "execution_count": 51,
     "metadata": {},
     "output_type": "execute_result"
    }
   ],
   "source": [
    "\"\"\"from scipy.interpolate import griddata\n",
    "lat_grid = np.linspace(df_combined[\"lat\"].min(), df_combined[\"lat\"].max(), 100)  # 100 puntos de latitud\n",
    "lon_grid = np.linspace(df_combined[\"lon\"].min(), df_combined[\"lon\"].max(), 100)  # 100 puntos de longitud\n",
    "lon_mesh, lat_mesh = np.meshgrid(lon_grid, lat_grid)  # Crear la malla de la rejilla\n",
    "\n",
    "# Realizar la interpolación bilineal\n",
    "points = np.array([df_combined[\"lat\"], df_combined[\"lon\"]]).T  # Puntos de entrada (lat, lon)\n",
    "values = df_combined[\"no2\"]  # Valores de NO2 en los puntos\n",
    "grid_no2 = griddata(points, values, (lat_mesh, lon_mesh), method=\"linear\")  # Interpolación\n",
    "\n",
    "# Visualización del resultado\n",
    "plt.figure(figsize=(8, 6))\n",
    "plt.contourf(lon_mesh, lat_mesh, grid_no2, levels=100, cmap=\"viridis\")  # Contorno interpolado\n",
    "plt.colorbar(label=\"NO2 Concentration\")\n",
    "plt.scatter(df_combined[\"lon\"], df_combined[\"lat\"], c=df_combined[\"no2\"], cmap=\"viridis\", edgecolor=\"k\", label=\"Data Points\")  # Puntos originales\n",
    "plt.xlabel(\"Longitude\")\n",
    "plt.ylabel(\"Latitude\")\n",
    "plt.legend()\n",
    "plt.title(\"Interpolación Bilineal de NO2\")\n",
    "plt.show()\"\"\"\n"
   ]
  },
  {
   "cell_type": "code",
   "execution_count": 7,
   "metadata": {},
   "outputs": [
    {
     "data": {
      "text/plain": [
       "\"# Extract x and y coordinates from the geometry column\\nx_coords = df_combined.geometry.apply(lambda geom: geom.x)\\ny_coords = df_combined.geometry.apply(lambda geom: geom.y)\\n\\nok = OrdinaryKriging(\\n    x_coords, y_coords, df_combined['no2'].values,\\n    variogram_model='gaussian',\\n    verbose=True, \\n    enable_plotting=False,\\n    nlags=25\\n)\""
      ]
     },
     "execution_count": 7,
     "metadata": {},
     "output_type": "execute_result"
    }
   ],
   "source": [
    "\"\"\"# Extract x and y coordinates from the geometry column\n",
    "x_coords = df_combined.geometry.apply(lambda geom: geom.x)\n",
    "y_coords = df_combined.geometry.apply(lambda geom: geom.y)\n",
    "\n",
    "ok = OrdinaryKriging(\n",
    "    x_coords, y_coords, df_combined['no2'].values,\n",
    "    variogram_model='gaussian',\n",
    "    verbose=True, \n",
    "    enable_plotting=False,\n",
    "    nlags=25\n",
    ")\"\"\""
   ]
  },
  {
   "cell_type": "code",
   "execution_count": 8,
   "metadata": {},
   "outputs": [
    {
     "data": {
      "text/plain": [
       "\"from multiprocessing import Pool\\n\\nstations = gpd.GeoDataFrame(df_obs[['Station', 'geometry']].drop_duplicates().reset_index(drop=True), geometry='geometry')\\nstations['buffer'] = stations.geometry.buffer(100)\\n\\n# Leer las carreteras desde el DataFrame\\ncarreteras = df_transport\\n\\n# Crear un índice espacial para las carreteras\\ncarreteras_sindex = carreteras.sindex\\n\\ndef encontrar_tipo_carretera(buffer):\\n    # Encontrar las carreteras que intersectan con el buffer\\n    posibles_intersecciones = list(carreteras_sindex.intersection(buffer.bounds))\\n    carreteras_intersectadas = carreteras.iloc[posibles_intersecciones]\\n    \\n    # Filtrar las carreteras que realmente intersectan con el buffer\\n    intersecciones = carreteras_intersectadas[carreteras_intersectadas.intersects(buffer)]\\n    \\n    if not intersecciones.empty:\\n        intersecciones['buffer_id'] = buffer.name\\n        return intersecciones[['buffer_id', 'sourceid', 'prioridad']]\\n    else:\\n        return pd.DataFrame(columns=['buffer_id', 'sourceid', 'prioridad'])\\n\\n# Procesar los buffers en paralelo\\nwith Pool() as pool:\\n    resultados = pool.map(encontrar_tipo_carretera, stations['buffer'])\\n\\n# Combinar los resultados\\nresultados_df = pd.concat(resultados, ignore_index=True)\\n\\n# Mostrar resultados\\nprint(resultados_df)\""
      ]
     },
     "execution_count": 8,
     "metadata": {},
     "output_type": "execute_result"
    }
   ],
   "source": [
    "\"\"\"from multiprocessing import Pool\n",
    "\n",
    "stations = gpd.GeoDataFrame(df_obs[['Station', 'geometry']].drop_duplicates().reset_index(drop=True), geometry='geometry')\n",
    "stations['buffer'] = stations.geometry.buffer(100)\n",
    "\n",
    "# Leer las carreteras desde el DataFrame\n",
    "carreteras = df_transport\n",
    "\n",
    "# Crear un índice espacial para las carreteras\n",
    "carreteras_sindex = carreteras.sindex\n",
    "\n",
    "def encontrar_tipo_carretera(buffer):\n",
    "    # Encontrar las carreteras que intersectan con el buffer\n",
    "    posibles_intersecciones = list(carreteras_sindex.intersection(buffer.bounds))\n",
    "    carreteras_intersectadas = carreteras.iloc[posibles_intersecciones]\n",
    "    \n",
    "    # Filtrar las carreteras que realmente intersectan con el buffer\n",
    "    intersecciones = carreteras_intersectadas[carreteras_intersectadas.intersects(buffer)]\n",
    "    \n",
    "    if not intersecciones.empty:\n",
    "        intersecciones['buffer_id'] = buffer.name\n",
    "        return intersecciones[['buffer_id', 'sourceid', 'prioridad']]\n",
    "    else:\n",
    "        return pd.DataFrame(columns=['buffer_id', 'sourceid', 'prioridad'])\n",
    "\n",
    "# Procesar los buffers en paralelo\n",
    "with Pool() as pool:\n",
    "    resultados = pool.map(encontrar_tipo_carretera, stations['buffer'])\n",
    "\n",
    "# Combinar los resultados\n",
    "resultados_df = pd.concat(resultados, ignore_index=True)\n",
    "\n",
    "# Mostrar resultados\n",
    "print(resultados_df)\"\"\"\n"
   ]
  },
  {
   "cell_type": "code",
   "execution_count": null,
   "metadata": {},
   "outputs": [],
   "source": []
  }
 ],
 "metadata": {
  "kernelspec": {
   "display_name": "Python 3",
   "language": "python",
   "name": "python3"
  },
  "language_info": {
   "codemirror_mode": {
    "name": "ipython",
    "version": 3
   },
   "file_extension": ".py",
   "mimetype": "text/x-python",
   "name": "python",
   "nbconvert_exporter": "python",
   "pygments_lexer": "ipython3",
   "version": "3.12.8"
  }
 },
 "nbformat": 4,
 "nbformat_minor": 2
}
